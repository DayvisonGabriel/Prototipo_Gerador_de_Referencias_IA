{
  "nbformat": 4,
  "nbformat_minor": 0,
  "metadata": {
    "colab": {
      "provenance": [],
      "authorship_tag": "ABX9TyPVRSf1f1RbFsAX5IYAdkLl",
      "include_colab_link": true
    },
    "kernelspec": {
      "name": "python3",
      "display_name": "Python 3"
    },
    "language_info": {
      "name": "python"
    }
  },
  "cells": [
    {
      "cell_type": "markdown",
      "metadata": {
        "id": "view-in-github",
        "colab_type": "text"
      },
      "source": [
        "<a href=\"https://colab.research.google.com/github/DayvisonGabriel/Prototipo_Gerador_de_Referencias_IA/blob/main/IA_Gerador_de_Referencias.ipynb\" target=\"_parent\"><img src=\"https://colab.research.google.com/assets/colab-badge.svg\" alt=\"Open In Colab\"/></a>"
      ]
    },
    {
      "cell_type": "markdown",
      "source": [
        "Instalando a api do google"
      ],
      "metadata": {
        "id": "k5zvu046iB2B"
      }
    },
    {
      "cell_type": "code",
      "execution_count": 1,
      "metadata": {
        "id": "GZdMWXQbh27Y"
      },
      "outputs": [],
      "source": [
        "!pip install -q -U google-generativeai"
      ]
    },
    {
      "cell_type": "markdown",
      "source": [
        "Importando Panda e Numpy para trabalhar, o panda com dados, e o numpy com vetores"
      ],
      "metadata": {
        "id": "c6TMU16miFKO"
      }
    },
    {
      "cell_type": "code",
      "source": [
        "import numpy as np\n",
        "import pandas as pd"
      ],
      "metadata": {
        "id": "5K7yjgsFiOHP"
      },
      "execution_count": 2,
      "outputs": []
    },
    {
      "cell_type": "markdown",
      "source": [
        "Adicionando biblioteca de design de texto"
      ],
      "metadata": {
        "id": "79YzqCltXxjL"
      }
    },
    {
      "cell_type": "code",
      "source": [
        "import textwrap\n",
        "\n",
        "from IPython.display import display\n",
        "from IPython.display import Markdown"
      ],
      "metadata": {
        "id": "StPvz2xxX2A1"
      },
      "execution_count": 3,
      "outputs": []
    },
    {
      "cell_type": "markdown",
      "source": [
        "Importando a api e configurando a API KEY\n"
      ],
      "metadata": {
        "id": "quIGiRhGinok"
      }
    },
    {
      "cell_type": "code",
      "source": [
        "import google.generativeai as genai\n",
        "\n",
        "from google.colab import userdata\n",
        "api_key = userdata.get('secret_key')\n",
        "genai.configure(api_key=api_key)\n",
        "\n",
        "\n",
        "#model = genai.GenerativeModel('gemini-pro')"
      ],
      "metadata": {
        "id": "t6EbQySnisDh"
      },
      "execution_count": 4,
      "outputs": []
    },
    {
      "cell_type": "markdown",
      "source": [
        "Verificando versões do germini para geração de conteudo = generateContent"
      ],
      "metadata": {
        "id": "BLp5qw70ioWD"
      }
    },
    {
      "cell_type": "code",
      "source": [
        "for m in genai.list_models():\n",
        "  if 'generateContent' in m.supported_generation_methods:\n",
        "    print(m.name)"
      ],
      "metadata": {
        "colab": {
          "base_uri": "https://localhost:8080/",
          "height": 139
        },
        "id": "5zlSthljixmm",
        "outputId": "1b83bccc-4c1a-4cfb-ead6-c0bc7ddd3f6c"
      },
      "execution_count": 5,
      "outputs": [
        {
          "output_type": "stream",
          "name": "stdout",
          "text": [
            "models/gemini-1.0-pro\n",
            "models/gemini-1.0-pro-001\n",
            "models/gemini-1.0-pro-latest\n",
            "models/gemini-1.0-pro-vision-latest\n",
            "models/gemini-1.5-pro-latest\n",
            "models/gemini-pro\n",
            "models/gemini-pro-vision\n"
          ]
        }
      ]
    },
    {
      "cell_type": "markdown",
      "source": [
        "Verificando versões do germini para uso de embedding = embedContentet"
      ],
      "metadata": {
        "id": "ZK_AM-c7ixGT"
      }
    },
    {
      "cell_type": "code",
      "source": [
        "for m in genai.list_models():\n",
        "  if 'embedContent' in m.supported_generation_methods:\n",
        "    print(m.name)"
      ],
      "metadata": {
        "colab": {
          "base_uri": "https://localhost:8080/",
          "height": 52
        },
        "id": "7v2Y2SgNi39g",
        "outputId": "1e585e49-ac99-4497-e248-fd755f050eec"
      },
      "execution_count": 6,
      "outputs": [
        {
          "output_type": "stream",
          "name": "stdout",
          "text": [
            "models/embedding-001\n",
            "models/text-embedding-004\n"
          ]
        }
      ]
    },
    {
      "cell_type": "markdown",
      "source": [
        "Listagem ou Alimentação dos documentos\n"
      ],
      "metadata": {
        "id": "ryFPdFYajqww"
      }
    },
    {
      "cell_type": "code",
      "source": [
        "#Listagem de documentos que serão buscados\n",
        "DOCUMENT1 = {\n",
        "    \"Título\": input(\"Titulo do artigo ou prompt se for texto gerado por IA DOC 1: \\n\"),\n",
        "    \"Conteúdo\": input(\"Conteudo da obra ou resposta da IA DOC 1: \\n\"),\n",
        "    \"Autor\": input(\"Autor ou nome da IA generativa DOC 1: \\n\"),\n",
        "    \"no_publi\": input(\"Ano de publicação da Obra ou data da versão do modelo de IA DOC 1: \\n\"),\n",
        "    \"pag\": input(\"Numero de paginas DOC 1: \\n\"),\n",
        "    \"editora\": input(\"Nome da editora para livros, Nome do Jornal, ou Nome da empresa criadora da IA DOC 1: \\n\"),\n",
        "    \"cidade\": input(\"Cidade de publicação DOC 1: \\n\"),\n",
        "    \"site\": input(\"Site ou LInk de acesso, onde está disponivel DOC 1: \\n\"),\n",
        "    \"dat_acess\": input(\"Digite a data que acessou o documento ou texto DOC 1: \\n\"),\n",
        "    \"tipo_de_midia\": input(\"Digite Qual a mídia do documento entre as da lista DOC 1:\\n livro/site/e-book digite - 1 \\n jornal digite - 2 \\n IA digite - 3 \\n\\n\")}\n",
        "\n",
        "DOCUMENT2 = {\n",
        "    \"Título\": input(\"Titulo do artigo ou prompt se for texto gerado por IA DOC 2: \\n\"),\n",
        "    \"Conteúdo\": input(\"Conteudo da obra ou resposta da IA DOC 2: \\n\"),\n",
        "    \"Autor\": input(\"Autor ou nome da IA generativa DOC 2: \\n\"),\n",
        "    \"no_publi\": input(\"Ano de publicação da Obra ou data da versão do modelo de IA DOC 2: \\n\"),\n",
        "    \"pag\": input(\"Numero de paginas DOC 2: \\n\"),\n",
        "    \"editora\": input(\"Nome da editora para livros, Nome do Jornal, ou Nome da empresa criadora da IA DOC 2: \\n\"),\n",
        "    \"cidade\": input(\"Cidade de publicação DOC 2: \\n\"),\n",
        "    \"site\": input(\"Site ou LInk de acesso, onde está disponivel DOC 2: \\n\"),\n",
        "    \"dat_acess\": input(\"Digite a data que acessou o documento ou texto DOC 2: \\n\"),\n",
        "    \"tipo_de_midia\": input(\"Digite Qual a mídia do documento entre as da lista DOC 2:\\n livro/site/e-book digite - 1 \\n jornal digite - 2 \\n IA digite - 3 \\n\\n\")}\n",
        "\n",
        "DOCUMENT3 = {\n",
        "    \"Título\": input(\"Titulo do artigo ou prompt se for texto gerado por IA DOC 3: \\n\"),\n",
        "    \"Conteúdo\": input(\"Conteudo da obra ou resposta da IA DOC 3: \\n\"),\n",
        "    \"Autor\": input(\"Autor ou nome da IA generativa DOC 3: \\n\"),\n",
        "    \"no_publi\": input(\"Ano de publicação da Obra ou data da versão do modelo de IA DOC 3: \\n\"),\n",
        "    \"pag\": input(\"Numero de paginas DOC 3: \\n\"),\n",
        "    \"editora\": input(\"Nome da editora para livros, Nome do Jornal, ou Nome da empresa criadora da IA DOC 3: \\n\"),\n",
        "    \"cidade\": input(\"Cidade de publicação DOC 3: \\n\"),\n",
        "    \"site\": input(\"Site ou LInk de acesso, onde está disponivel DOC 3: \\n\"),\n",
        "    \"dat_acess\": input(\"Digite a data que acessou o documento ou texto DOC 3: \\n\"),\n",
        "    \"tipo_de_midia\": input(\"Digite Qual a mídia do documento entre as da lista DOC 3:\\n livro/site/e-book digite - 1 \\n jornal digite - 2 \\n IA digite - 3 \\n\\n\")}\n",
        "\n",
        "\n",
        "\n",
        "documents = [DOCUMENT1, DOCUMENT2, DOCUMENT3]"
      ],
      "metadata": {
        "colab": {
          "base_uri": "https://localhost:8080/"
        },
        "id": "sTKQ71x_jpjs",
        "outputId": "0166e4d5-9c2b-4853-db9e-fab709a7f334"
      },
      "execution_count": 7,
      "outputs": [
        {
          "name": "stdout",
          "output_type": "stream",
          "text": [
            "Titulo do artigo ou prompt se for texto gerado por IA DOC 1: \n",
            "EMPREENDEDORISMO\n",
            "Conteudo da obra ou resposta da IA DOC 1: \n",
            "O empreendedorismo é o resultado da ação do empreendedor. Em ou tras palavras, é aquilo colocado em prática que gera lucros e riquezas para a  empresa e o país. A prática ficou conhecida em 1950 pelo economista fran cês Joseph Schumpeter, que classificava empreendedores como pessoas de  sucesso por meio da criatividade e inovação. Seguindo a mesma linha de  raciocínio, o Doutor Janguiê Diniz conceitua empreendedorismo como um  dos principais fatores que desenvolvem economicamente uma nação.  Ainda, o professor defende que o empreendedor é estimulado pela famí lia. Dessa forma, se você nasceu em uma família de empreendedores, você  terá maior propensão de se tornar um empreendedor, ou seja, se temos algum  exemplo de empreendedorismo na família, é bem provável que possamos de senvolver a ideia de empreender. Se não temos nenhum exemplo, a tendência é  buscarmos por empregos que nos deem mais estabilidade, como empregos de  carteira assinada e concursos públicos.  Consideramos, assim, que o empreendedorismo é uma questão cultural,  ou seja, é uma cultura passada de pai para filho. Portanto, se o pensamento do  pai for negativo em relação ao processo de empreender, vendo a atividade como  capitalista, nociva e gananciosa, os filhos terão a mesma imagem do empreende dorismo. E, por acharem que isto não é legal, não acharão importante empreen der e irão buscar outras opções de trabalho.\n",
            "Autor ou nome da IA generativa DOC 1: \n",
            "Moura, Lilian da Silva Almeida\n",
            "Ano de publicação da Obra ou data da versão do modelo de IA DOC 1: \n",
            "2019\n",
            "Numero de paginas DOC 1: \n",
            "149\n",
            "Nome da editora para livros, Nome do Jornal, ou Nome da empresa criadora da IA DOC 1: \n",
            "Ser Educacional\n",
            "Cidade de publicação DOC 1: \n",
            "Recife\n",
            "Site ou LInk de acesso, onde está disponivel DOC 1: \n",
            "\n",
            "Digite a data que acessou o documento ou texto DOC 1: \n",
            "10/05/2023\n",
            "Digite Qual a mídia do documento entre as da lista DOC 1:\n",
            " livro/site/e-book digite - 1 \n",
            "   jornal digite - 2 \n",
            "   IA digite - 3 \n",
            "\n",
            "1\n",
            "Titulo do artigo ou prompt se for texto gerado por IA DOC 2: \n",
            "Saiba qual é o caminho feito por animais resgatados após as cheias no RS; 10 mil bichos foram salvos\n",
            "Conteudo da obra ou resposta da IA DOC 2: \n",
            "O que é feito após os resgates Após o resgate, a primeira etapa é o transporte, em segurança, para abrigos ou unidades de acolhimento. A segunda etapa é uma triagem veterinária, para verificar as condições de saúde do animal.  Os animais que estão em bom estado de saúde, mas sem o tutor identificado, são direcionados para abrigos públicos ou espaços do Grad. Caso estejam com hipotermia ou lesões, os bichos são encaminhados para a clínica veterinária mais próxima.  Além disso, há pessoas que levam os animais consigo, para os abrigos onde a presença de pets é permitida. Também há abrigos privados montados por pessoas e entidades de defesa da causa animal.\n",
            "Autor ou nome da IA generativa DOC 2: \n",
            "Chagas, Gustavo\n",
            "Ano de publicação da Obra ou data da versão do modelo de IA DOC 2: \n",
            "2024\n",
            "Numero de paginas DOC 2: \n",
            "\n",
            "Nome da editora para livros, Nome do Jornal, ou Nome da empresa criadora da IA DOC 2: \n",
            "G1\n",
            "Cidade de publicação DOC 2: \n",
            "Rio Grande do Sul\n",
            "Site ou LInk de acesso, onde está disponivel DOC 2: \n",
            "https://g1.globo.com/rs/rio-grande-do-sul/noticia/2024/05/11/saiba-qual-e-o-caminho-feito-por-animais-resgatados-apos-as-cheias-no-rs-10-mil-bichos-foram-salvos.ghtml\n",
            "Digite a data que acessou o documento ou texto DOC 2: \n",
            "11/05/2024\n",
            "Digite Qual a mídia do documento entre as da lista DOC 2:\n",
            "  livro/site/e-book digite - 1 \n",
            "    jornal digite - 2 \n",
            "    IA digite - 3 \n",
            "\n",
            "2\n",
            "Titulo do artigo ou prompt se for texto gerado por IA DOC 3: \n",
            "Qual a primeira vaca a pisar na lua?\n",
            "Conteudo da obra ou resposta da IA DOC 3: \n",
            "Até o dia 11 de maio de 2024, nenhuma vaca jamais pisou na Lua.  Apesar de haver histórias infantis e brincadeiras que imaginam vacas na Lua, na realidade, nenhuma missão espacial levou vacas ou outros animais para lá. As viagens espaciais são extremamente desafiadoras e exigem tecnologia e planejamento complexos, priorizando a segurança e o sucesso da missão.  Levar uma vaca à Lua apresentaria diversos desafios:  Transporte: As espaçonaves são projetadas para transportar astronautas e equipamentos essenciais, com espaço e peso limitados. Transportar uma vaca grande e pesada exigiria modificações significativas na espaçonave, comprometendo outros aspectos da missão. Fisiologia: A baixa gravidade da Lua afetaria o sistema digestivo, cardiovascular e musculoesquelético da vaca, causando estresse e problemas de saúde. Suporte de vida: A vaca precisaria de um sistema de suporte de vida completo, fornecendo oxigênio, água, alimentos e controle de temperatura, o que aumentaria significativamente a complexidade e o custo da missão. Alimentação: A vaca precisaria de uma quantidade significativa de alimentos e água, que precisariam ser transportados da Terra, aumentando ainda mais o peso e a complexidade da missão. Treinamento: Treinar uma vaca para se comportar adequadamente em um ambiente espacial seria extremamente difícil e provavelmente infrutífero. Em resumo, enviar uma vaca à Lua é atualmente inviável do ponto de vista técnico, logístico e ético.  No entanto, a exploração espacial continua a evoluir, e quem sabe no futuro tecnologias e métodos inovadores permitirão que animais como vacas sejam enviados para outros planetas.\n",
            "Autor ou nome da IA generativa DOC 3: \n",
            "Germini\n",
            "Ano de publicação da Obra ou data da versão do modelo de IA DOC 3: \n",
            "1.0 Pro 2024\n",
            "Numero de paginas DOC 3: \n",
            "\n",
            "Nome da editora para livros, Nome do Jornal, ou Nome da empresa criadora da IA DOC 3: \n",
            "Google Cloud\n",
            "Cidade de publicação DOC 3: \n",
            "\n",
            "Site ou LInk de acesso, onde está disponivel DOC 3: \n",
            "https://gemini.google.com/app/b78ffed0e0cf7adb\n",
            "Digite a data que acessou o documento ou texto DOC 3: \n",
            "11/05/2024\n",
            "Digite Qual a mídia do documento entre as da lista DOC 3:\n",
            "    livro/site/e-book digite - 1 \n",
            "    jornal digite - 2 \n",
            "  IA digite - 3 \n",
            "\n",
            "3\n"
          ]
        }
      ]
    },
    {
      "cell_type": "markdown",
      "source": [
        "Salvar esse documento em um banco de dados - df"
      ],
      "metadata": {
        "id": "4Ym04-iOklKX"
      }
    },
    {
      "cell_type": "code",
      "source": [
        "df = pd.DataFrame(documents)\n",
        "df.columns = [\"Titulo\", \"Conteudo\",\"Autor\",\"Ano_de_Publicacao\",\"N_Paginas\",\"Editora\",\"Cidade\",\"Site\",\"Data_Acesso\", \"tipo_de_midia\"]\n",
        "df"
      ],
      "metadata": {
        "colab": {
          "base_uri": "https://localhost:8080/",
          "height": 196
        },
        "collapsed": true,
        "id": "StCUjx3TjvoJ",
        "outputId": "da13ddd4-840a-480a-dfd3-b476f9f1a7f5"
      },
      "execution_count": 8,
      "outputs": [
        {
          "output_type": "execute_result",
          "data": {
            "text/plain": [
              "                                              Titulo  \\\n",
              "0                                   EMPREENDEDORISMO   \n",
              "1  Saiba qual é o caminho feito por animais resga...   \n",
              "2               Qual a primeira vaca a pisar na lua?   \n",
              "\n",
              "                                            Conteudo  \\\n",
              "0  O empreendedorismo é o resultado da ação do em...   \n",
              "1  O que é feito após os resgates Após o resgate,...   \n",
              "2  Até o dia 11 de maio de 2024, nenhuma vaca jam...   \n",
              "\n",
              "                            Autor Ano_de_Publicacao N_Paginas  \\\n",
              "0  Moura, Lilian da Silva Almeida              2019       149   \n",
              "1                 Chagas, Gustavo              2024             \n",
              "2                         Germini      1.0 Pro 2024             \n",
              "\n",
              "           Editora             Cidade  \\\n",
              "0  Ser Educacional             Recife   \n",
              "1               G1  Rio Grande do Sul   \n",
              "2     Google Cloud                      \n",
              "\n",
              "                                                Site Data_Acesso tipo_de_midia  \n",
              "0                                                     10/05/2023             1  \n",
              "1  https://g1.globo.com/rs/rio-grande-do-sul/noti...  11/05/2024             2  \n",
              "2     https://gemini.google.com/app/b78ffed0e0cf7adb  11/05/2024             3  "
            ],
            "text/html": [
              "\n",
              "  <div id=\"df-cc21f534-fb03-431f-9737-a2173b616160\" class=\"colab-df-container\">\n",
              "    <div>\n",
              "<style scoped>\n",
              "    .dataframe tbody tr th:only-of-type {\n",
              "        vertical-align: middle;\n",
              "    }\n",
              "\n",
              "    .dataframe tbody tr th {\n",
              "        vertical-align: top;\n",
              "    }\n",
              "\n",
              "    .dataframe thead th {\n",
              "        text-align: right;\n",
              "    }\n",
              "</style>\n",
              "<table border=\"1\" class=\"dataframe\">\n",
              "  <thead>\n",
              "    <tr style=\"text-align: right;\">\n",
              "      <th></th>\n",
              "      <th>Titulo</th>\n",
              "      <th>Conteudo</th>\n",
              "      <th>Autor</th>\n",
              "      <th>Ano_de_Publicacao</th>\n",
              "      <th>N_Paginas</th>\n",
              "      <th>Editora</th>\n",
              "      <th>Cidade</th>\n",
              "      <th>Site</th>\n",
              "      <th>Data_Acesso</th>\n",
              "      <th>tipo_de_midia</th>\n",
              "    </tr>\n",
              "  </thead>\n",
              "  <tbody>\n",
              "    <tr>\n",
              "      <th>0</th>\n",
              "      <td>EMPREENDEDORISMO</td>\n",
              "      <td>O empreendedorismo é o resultado da ação do em...</td>\n",
              "      <td>Moura, Lilian da Silva Almeida</td>\n",
              "      <td>2019</td>\n",
              "      <td>149</td>\n",
              "      <td>Ser Educacional</td>\n",
              "      <td>Recife</td>\n",
              "      <td></td>\n",
              "      <td>10/05/2023</td>\n",
              "      <td>1</td>\n",
              "    </tr>\n",
              "    <tr>\n",
              "      <th>1</th>\n",
              "      <td>Saiba qual é o caminho feito por animais resga...</td>\n",
              "      <td>O que é feito após os resgates Após o resgate,...</td>\n",
              "      <td>Chagas, Gustavo</td>\n",
              "      <td>2024</td>\n",
              "      <td></td>\n",
              "      <td>G1</td>\n",
              "      <td>Rio Grande do Sul</td>\n",
              "      <td>https://g1.globo.com/rs/rio-grande-do-sul/noti...</td>\n",
              "      <td>11/05/2024</td>\n",
              "      <td>2</td>\n",
              "    </tr>\n",
              "    <tr>\n",
              "      <th>2</th>\n",
              "      <td>Qual a primeira vaca a pisar na lua?</td>\n",
              "      <td>Até o dia 11 de maio de 2024, nenhuma vaca jam...</td>\n",
              "      <td>Germini</td>\n",
              "      <td>1.0 Pro 2024</td>\n",
              "      <td></td>\n",
              "      <td>Google Cloud</td>\n",
              "      <td></td>\n",
              "      <td>https://gemini.google.com/app/b78ffed0e0cf7adb</td>\n",
              "      <td>11/05/2024</td>\n",
              "      <td>3</td>\n",
              "    </tr>\n",
              "  </tbody>\n",
              "</table>\n",
              "</div>\n",
              "    <div class=\"colab-df-buttons\">\n",
              "\n",
              "  <div class=\"colab-df-container\">\n",
              "    <button class=\"colab-df-convert\" onclick=\"convertToInteractive('df-cc21f534-fb03-431f-9737-a2173b616160')\"\n",
              "            title=\"Convert this dataframe to an interactive table.\"\n",
              "            style=\"display:none;\">\n",
              "\n",
              "  <svg xmlns=\"http://www.w3.org/2000/svg\" height=\"24px\" viewBox=\"0 -960 960 960\">\n",
              "    <path d=\"M120-120v-720h720v720H120Zm60-500h600v-160H180v160Zm220 220h160v-160H400v160Zm0 220h160v-160H400v160ZM180-400h160v-160H180v160Zm440 0h160v-160H620v160ZM180-180h160v-160H180v160Zm440 0h160v-160H620v160Z\"/>\n",
              "  </svg>\n",
              "    </button>\n",
              "\n",
              "  <style>\n",
              "    .colab-df-container {\n",
              "      display:flex;\n",
              "      gap: 12px;\n",
              "    }\n",
              "\n",
              "    .colab-df-convert {\n",
              "      background-color: #E8F0FE;\n",
              "      border: none;\n",
              "      border-radius: 50%;\n",
              "      cursor: pointer;\n",
              "      display: none;\n",
              "      fill: #1967D2;\n",
              "      height: 32px;\n",
              "      padding: 0 0 0 0;\n",
              "      width: 32px;\n",
              "    }\n",
              "\n",
              "    .colab-df-convert:hover {\n",
              "      background-color: #E2EBFA;\n",
              "      box-shadow: 0px 1px 2px rgba(60, 64, 67, 0.3), 0px 1px 3px 1px rgba(60, 64, 67, 0.15);\n",
              "      fill: #174EA6;\n",
              "    }\n",
              "\n",
              "    .colab-df-buttons div {\n",
              "      margin-bottom: 4px;\n",
              "    }\n",
              "\n",
              "    [theme=dark] .colab-df-convert {\n",
              "      background-color: #3B4455;\n",
              "      fill: #D2E3FC;\n",
              "    }\n",
              "\n",
              "    [theme=dark] .colab-df-convert:hover {\n",
              "      background-color: #434B5C;\n",
              "      box-shadow: 0px 1px 3px 1px rgba(0, 0, 0, 0.15);\n",
              "      filter: drop-shadow(0px 1px 2px rgba(0, 0, 0, 0.3));\n",
              "      fill: #FFFFFF;\n",
              "    }\n",
              "  </style>\n",
              "\n",
              "    <script>\n",
              "      const buttonEl =\n",
              "        document.querySelector('#df-cc21f534-fb03-431f-9737-a2173b616160 button.colab-df-convert');\n",
              "      buttonEl.style.display =\n",
              "        google.colab.kernel.accessAllowed ? 'block' : 'none';\n",
              "\n",
              "      async function convertToInteractive(key) {\n",
              "        const element = document.querySelector('#df-cc21f534-fb03-431f-9737-a2173b616160');\n",
              "        const dataTable =\n",
              "          await google.colab.kernel.invokeFunction('convertToInteractive',\n",
              "                                                    [key], {});\n",
              "        if (!dataTable) return;\n",
              "\n",
              "        const docLinkHtml = 'Like what you see? Visit the ' +\n",
              "          '<a target=\"_blank\" href=https://colab.research.google.com/notebooks/data_table.ipynb>data table notebook</a>'\n",
              "          + ' to learn more about interactive tables.';\n",
              "        element.innerHTML = '';\n",
              "        dataTable['output_type'] = 'display_data';\n",
              "        await google.colab.output.renderOutput(dataTable, element);\n",
              "        const docLink = document.createElement('div');\n",
              "        docLink.innerHTML = docLinkHtml;\n",
              "        element.appendChild(docLink);\n",
              "      }\n",
              "    </script>\n",
              "  </div>\n",
              "\n",
              "\n",
              "<div id=\"df-69e4b7c0-9bfe-482c-aca8-447e12a9b9c4\">\n",
              "  <button class=\"colab-df-quickchart\" onclick=\"quickchart('df-69e4b7c0-9bfe-482c-aca8-447e12a9b9c4')\"\n",
              "            title=\"Suggest charts\"\n",
              "            style=\"display:none;\">\n",
              "\n",
              "<svg xmlns=\"http://www.w3.org/2000/svg\" height=\"24px\"viewBox=\"0 0 24 24\"\n",
              "     width=\"24px\">\n",
              "    <g>\n",
              "        <path d=\"M19 3H5c-1.1 0-2 .9-2 2v14c0 1.1.9 2 2 2h14c1.1 0 2-.9 2-2V5c0-1.1-.9-2-2-2zM9 17H7v-7h2v7zm4 0h-2V7h2v10zm4 0h-2v-4h2v4z\"/>\n",
              "    </g>\n",
              "</svg>\n",
              "  </button>\n",
              "\n",
              "<style>\n",
              "  .colab-df-quickchart {\n",
              "      --bg-color: #E8F0FE;\n",
              "      --fill-color: #1967D2;\n",
              "      --hover-bg-color: #E2EBFA;\n",
              "      --hover-fill-color: #174EA6;\n",
              "      --disabled-fill-color: #AAA;\n",
              "      --disabled-bg-color: #DDD;\n",
              "  }\n",
              "\n",
              "  [theme=dark] .colab-df-quickchart {\n",
              "      --bg-color: #3B4455;\n",
              "      --fill-color: #D2E3FC;\n",
              "      --hover-bg-color: #434B5C;\n",
              "      --hover-fill-color: #FFFFFF;\n",
              "      --disabled-bg-color: #3B4455;\n",
              "      --disabled-fill-color: #666;\n",
              "  }\n",
              "\n",
              "  .colab-df-quickchart {\n",
              "    background-color: var(--bg-color);\n",
              "    border: none;\n",
              "    border-radius: 50%;\n",
              "    cursor: pointer;\n",
              "    display: none;\n",
              "    fill: var(--fill-color);\n",
              "    height: 32px;\n",
              "    padding: 0;\n",
              "    width: 32px;\n",
              "  }\n",
              "\n",
              "  .colab-df-quickchart:hover {\n",
              "    background-color: var(--hover-bg-color);\n",
              "    box-shadow: 0 1px 2px rgba(60, 64, 67, 0.3), 0 1px 3px 1px rgba(60, 64, 67, 0.15);\n",
              "    fill: var(--button-hover-fill-color);\n",
              "  }\n",
              "\n",
              "  .colab-df-quickchart-complete:disabled,\n",
              "  .colab-df-quickchart-complete:disabled:hover {\n",
              "    background-color: var(--disabled-bg-color);\n",
              "    fill: var(--disabled-fill-color);\n",
              "    box-shadow: none;\n",
              "  }\n",
              "\n",
              "  .colab-df-spinner {\n",
              "    border: 2px solid var(--fill-color);\n",
              "    border-color: transparent;\n",
              "    border-bottom-color: var(--fill-color);\n",
              "    animation:\n",
              "      spin 1s steps(1) infinite;\n",
              "  }\n",
              "\n",
              "  @keyframes spin {\n",
              "    0% {\n",
              "      border-color: transparent;\n",
              "      border-bottom-color: var(--fill-color);\n",
              "      border-left-color: var(--fill-color);\n",
              "    }\n",
              "    20% {\n",
              "      border-color: transparent;\n",
              "      border-left-color: var(--fill-color);\n",
              "      border-top-color: var(--fill-color);\n",
              "    }\n",
              "    30% {\n",
              "      border-color: transparent;\n",
              "      border-left-color: var(--fill-color);\n",
              "      border-top-color: var(--fill-color);\n",
              "      border-right-color: var(--fill-color);\n",
              "    }\n",
              "    40% {\n",
              "      border-color: transparent;\n",
              "      border-right-color: var(--fill-color);\n",
              "      border-top-color: var(--fill-color);\n",
              "    }\n",
              "    60% {\n",
              "      border-color: transparent;\n",
              "      border-right-color: var(--fill-color);\n",
              "    }\n",
              "    80% {\n",
              "      border-color: transparent;\n",
              "      border-right-color: var(--fill-color);\n",
              "      border-bottom-color: var(--fill-color);\n",
              "    }\n",
              "    90% {\n",
              "      border-color: transparent;\n",
              "      border-bottom-color: var(--fill-color);\n",
              "    }\n",
              "  }\n",
              "</style>\n",
              "\n",
              "  <script>\n",
              "    async function quickchart(key) {\n",
              "      const quickchartButtonEl =\n",
              "        document.querySelector('#' + key + ' button');\n",
              "      quickchartButtonEl.disabled = true;  // To prevent multiple clicks.\n",
              "      quickchartButtonEl.classList.add('colab-df-spinner');\n",
              "      try {\n",
              "        const charts = await google.colab.kernel.invokeFunction(\n",
              "            'suggestCharts', [key], {});\n",
              "      } catch (error) {\n",
              "        console.error('Error during call to suggestCharts:', error);\n",
              "      }\n",
              "      quickchartButtonEl.classList.remove('colab-df-spinner');\n",
              "      quickchartButtonEl.classList.add('colab-df-quickchart-complete');\n",
              "    }\n",
              "    (() => {\n",
              "      let quickchartButtonEl =\n",
              "        document.querySelector('#df-69e4b7c0-9bfe-482c-aca8-447e12a9b9c4 button');\n",
              "      quickchartButtonEl.style.display =\n",
              "        google.colab.kernel.accessAllowed ? 'block' : 'none';\n",
              "    })();\n",
              "  </script>\n",
              "</div>\n",
              "\n",
              "  <div id=\"id_555cafb6-3647-4f0b-99fd-d2af0c486dc3\">\n",
              "    <style>\n",
              "      .colab-df-generate {\n",
              "        background-color: #E8F0FE;\n",
              "        border: none;\n",
              "        border-radius: 50%;\n",
              "        cursor: pointer;\n",
              "        display: none;\n",
              "        fill: #1967D2;\n",
              "        height: 32px;\n",
              "        padding: 0 0 0 0;\n",
              "        width: 32px;\n",
              "      }\n",
              "\n",
              "      .colab-df-generate:hover {\n",
              "        background-color: #E2EBFA;\n",
              "        box-shadow: 0px 1px 2px rgba(60, 64, 67, 0.3), 0px 1px 3px 1px rgba(60, 64, 67, 0.15);\n",
              "        fill: #174EA6;\n",
              "      }\n",
              "\n",
              "      [theme=dark] .colab-df-generate {\n",
              "        background-color: #3B4455;\n",
              "        fill: #D2E3FC;\n",
              "      }\n",
              "\n",
              "      [theme=dark] .colab-df-generate:hover {\n",
              "        background-color: #434B5C;\n",
              "        box-shadow: 0px 1px 3px 1px rgba(0, 0, 0, 0.15);\n",
              "        filter: drop-shadow(0px 1px 2px rgba(0, 0, 0, 0.3));\n",
              "        fill: #FFFFFF;\n",
              "      }\n",
              "    </style>\n",
              "    <button class=\"colab-df-generate\" onclick=\"generateWithVariable('df')\"\n",
              "            title=\"Generate code using this dataframe.\"\n",
              "            style=\"display:none;\">\n",
              "\n",
              "  <svg xmlns=\"http://www.w3.org/2000/svg\" height=\"24px\"viewBox=\"0 0 24 24\"\n",
              "       width=\"24px\">\n",
              "    <path d=\"M7,19H8.4L18.45,9,17,7.55,7,17.6ZM5,21V16.75L18.45,3.32a2,2,0,0,1,2.83,0l1.4,1.43a1.91,1.91,0,0,1,.58,1.4,1.91,1.91,0,0,1-.58,1.4L9.25,21ZM18.45,9,17,7.55Zm-12,3A5.31,5.31,0,0,0,4.9,8.1,5.31,5.31,0,0,0,1,6.5,5.31,5.31,0,0,0,4.9,4.9,5.31,5.31,0,0,0,6.5,1,5.31,5.31,0,0,0,8.1,4.9,5.31,5.31,0,0,0,12,6.5,5.46,5.46,0,0,0,6.5,12Z\"/>\n",
              "  </svg>\n",
              "    </button>\n",
              "    <script>\n",
              "      (() => {\n",
              "      const buttonEl =\n",
              "        document.querySelector('#id_555cafb6-3647-4f0b-99fd-d2af0c486dc3 button.colab-df-generate');\n",
              "      buttonEl.style.display =\n",
              "        google.colab.kernel.accessAllowed ? 'block' : 'none';\n",
              "\n",
              "      buttonEl.onclick = () => {\n",
              "        google.colab.notebook.generateWithVariable('df');\n",
              "      }\n",
              "      })();\n",
              "    </script>\n",
              "  </div>\n",
              "\n",
              "    </div>\n",
              "  </div>\n"
            ],
            "application/vnd.google.colaboratory.intrinsic+json": {
              "type": "dataframe",
              "variable_name": "df",
              "summary": "{\n  \"name\": \"df\",\n  \"rows\": 3,\n  \"fields\": [\n    {\n      \"column\": \"Titulo\",\n      \"properties\": {\n        \"dtype\": \"string\",\n        \"num_unique_values\": 3,\n        \"samples\": [\n          \"EMPREENDEDORISMO\",\n          \"Saiba qual \\u00e9 o caminho feito por animais resgatados ap\\u00f3s as cheias no RS; 10 mil bichos foram salvos\",\n          \"Qual a primeira vaca a pisar na lua?\"\n        ],\n        \"semantic_type\": \"\",\n        \"description\": \"\"\n      }\n    },\n    {\n      \"column\": \"Conteudo\",\n      \"properties\": {\n        \"dtype\": \"string\",\n        \"num_unique_values\": 3,\n        \"samples\": [\n          \"O empreendedorismo \\u00e9 o resultado da a\\u00e7\\u00e3o do empreendedor. Em ou tras palavras, \\u00e9 aquilo colocado em pr\\u00e1tica que gera lucros e riquezas para a  empresa e o pa\\u00eds. A pr\\u00e1tica ficou conhecida em 1950 pelo economista fran c\\u00eas Joseph Schumpeter, que classificava empreendedores como pessoas de  sucesso por meio da criatividade e inova\\u00e7\\u00e3o. Seguindo a mesma linha de  racioc\\u00ednio, o Doutor Jangui\\u00ea Diniz conceitua empreendedorismo como um  dos principais fatores que desenvolvem economicamente uma na\\u00e7\\u00e3o.  Ainda, o professor defende que o empreendedor \\u00e9 estimulado pela fam\\u00ed lia. Dessa forma, se voc\\u00ea nasceu em uma fam\\u00edlia de empreendedores, voc\\u00ea  ter\\u00e1 maior propens\\u00e3o de se tornar um empreendedor, ou seja, se temos algum  exemplo de empreendedorismo na fam\\u00edlia, \\u00e9 bem prov\\u00e1vel que possamos de senvolver a ideia de empreender. Se n\\u00e3o temos nenhum exemplo, a tend\\u00eancia \\u00e9  buscarmos por empregos que nos deem mais estabilidade, como empregos de  carteira assinada e concursos p\\u00fablicos.  Consideramos, assim, que o empreendedorismo \\u00e9 uma quest\\u00e3o cultural,  ou seja, \\u00e9 uma cultura passada de pai para filho. Portanto, se o pensamento do  pai for negativo em rela\\u00e7\\u00e3o ao processo de empreender, vendo a atividade como  capitalista, nociva e gananciosa, os filhos ter\\u00e3o a mesma imagem do empreende dorismo. E, por acharem que isto n\\u00e3o \\u00e9 legal, n\\u00e3o achar\\u00e3o importante empreen der e ir\\u00e3o buscar outras op\\u00e7\\u00f5es de trabalho.\",\n          \"O que \\u00e9 feito ap\\u00f3s os resgates Ap\\u00f3s o resgate, a primeira etapa \\u00e9 o transporte, em seguran\\u00e7a, para abrigos ou unidades de acolhimento. A segunda etapa \\u00e9 uma triagem veterin\\u00e1ria, para verificar as condi\\u00e7\\u00f5es de sa\\u00fade do animal.  Os animais que est\\u00e3o em bom estado de sa\\u00fade, mas sem o tutor identificado, s\\u00e3o direcionados para abrigos p\\u00fablicos ou espa\\u00e7os do Grad. Caso estejam com hipotermia ou les\\u00f5es, os bichos s\\u00e3o encaminhados para a cl\\u00ednica veterin\\u00e1ria mais pr\\u00f3xima.  Al\\u00e9m disso, h\\u00e1 pessoas que levam os animais consigo, para os abrigos onde a presen\\u00e7a de pets \\u00e9 permitida. Tamb\\u00e9m h\\u00e1 abrigos privados montados por pessoas e entidades de defesa da causa animal.\",\n          \"At\\u00e9 o dia 11 de maio de 2024, nenhuma vaca jamais pisou na Lua.  Apesar de haver hist\\u00f3rias infantis e brincadeiras que imaginam vacas na Lua, na realidade, nenhuma miss\\u00e3o espacial levou vacas ou outros animais para l\\u00e1. As viagens espaciais s\\u00e3o extremamente desafiadoras e exigem tecnologia e planejamento complexos, priorizando a seguran\\u00e7a e o sucesso da miss\\u00e3o.  Levar uma vaca \\u00e0 Lua apresentaria diversos desafios:  Transporte: As espa\\u00e7onaves s\\u00e3o projetadas para transportar astronautas e equipamentos essenciais, com espa\\u00e7o e peso limitados. Transportar uma vaca grande e pesada exigiria modifica\\u00e7\\u00f5es significativas na espa\\u00e7onave, comprometendo outros aspectos da miss\\u00e3o. Fisiologia: A baixa gravidade da Lua afetaria o sistema digestivo, cardiovascular e musculoesquel\\u00e9tico da vaca, causando estresse e problemas de sa\\u00fade. Suporte de vida: A vaca precisaria de um sistema de suporte de vida completo, fornecendo oxig\\u00eanio, \\u00e1gua, alimentos e controle de temperatura, o que aumentaria significativamente a complexidade e o custo da miss\\u00e3o. Alimenta\\u00e7\\u00e3o: A vaca precisaria de uma quantidade significativa de alimentos e \\u00e1gua, que precisariam ser transportados da Terra, aumentando ainda mais o peso e a complexidade da miss\\u00e3o. Treinamento: Treinar uma vaca para se comportar adequadamente em um ambiente espacial seria extremamente dif\\u00edcil e provavelmente infrut\\u00edfero. Em resumo, enviar uma vaca \\u00e0 Lua \\u00e9 atualmente invi\\u00e1vel do ponto de vista t\\u00e9cnico, log\\u00edstico e \\u00e9tico.  No entanto, a explora\\u00e7\\u00e3o espacial continua a evoluir, e quem sabe no futuro tecnologias e m\\u00e9todos inovadores permitir\\u00e3o que animais como vacas sejam enviados para outros planetas.\"\n        ],\n        \"semantic_type\": \"\",\n        \"description\": \"\"\n      }\n    },\n    {\n      \"column\": \"Autor\",\n      \"properties\": {\n        \"dtype\": \"string\",\n        \"num_unique_values\": 3,\n        \"samples\": [\n          \"Moura, Lilian da Silva Almeida\",\n          \"Chagas, Gustavo\",\n          \"Germini\"\n        ],\n        \"semantic_type\": \"\",\n        \"description\": \"\"\n      }\n    },\n    {\n      \"column\": \"Ano_de_Publicacao\",\n      \"properties\": {\n        \"dtype\": \"string\",\n        \"num_unique_values\": 3,\n        \"samples\": [\n          \"2019\",\n          \"2024\",\n          \"1.0 Pro 2024\"\n        ],\n        \"semantic_type\": \"\",\n        \"description\": \"\"\n      }\n    },\n    {\n      \"column\": \"N_Paginas\",\n      \"properties\": {\n        \"dtype\": \"string\",\n        \"num_unique_values\": 2,\n        \"samples\": [\n          \"\",\n          \"149\"\n        ],\n        \"semantic_type\": \"\",\n        \"description\": \"\"\n      }\n    },\n    {\n      \"column\": \"Editora\",\n      \"properties\": {\n        \"dtype\": \"string\",\n        \"num_unique_values\": 3,\n        \"samples\": [\n          \"Ser Educacional\",\n          \"G1\"\n        ],\n        \"semantic_type\": \"\",\n        \"description\": \"\"\n      }\n    },\n    {\n      \"column\": \"Cidade\",\n      \"properties\": {\n        \"dtype\": \"string\",\n        \"num_unique_values\": 3,\n        \"samples\": [\n          \"Recife\",\n          \"Rio Grande do Sul\"\n        ],\n        \"semantic_type\": \"\",\n        \"description\": \"\"\n      }\n    },\n    {\n      \"column\": \"Site\",\n      \"properties\": {\n        \"dtype\": \"string\",\n        \"num_unique_values\": 3,\n        \"samples\": [\n          \"\",\n          \"https://g1.globo.com/rs/rio-grande-do-sul/noticia/2024/05/11/saiba-qual-e-o-caminho-feito-por-animais-resgatados-apos-as-cheias-no-rs-10-mil-bichos-foram-salvos.ghtml\"\n        ],\n        \"semantic_type\": \"\",\n        \"description\": \"\"\n      }\n    },\n    {\n      \"column\": \"Data_Acesso\",\n      \"properties\": {\n        \"dtype\": \"object\",\n        \"num_unique_values\": 2,\n        \"samples\": [\n          \"11/05/2024\",\n          \"10/05/2023\"\n        ],\n        \"semantic_type\": \"\",\n        \"description\": \"\"\n      }\n    },\n    {\n      \"column\": \"tipo_de_midia\",\n      \"properties\": {\n        \"dtype\": \"string\",\n        \"num_unique_values\": 3,\n        \"samples\": [\n          \"1\",\n          \"2\"\n        ],\n        \"semantic_type\": \"\",\n        \"description\": \"\"\n      }\n    }\n  ]\n}"
            }
          },
          "metadata": {},
          "execution_count": 8
        }
      ]
    },
    {
      "cell_type": "markdown",
      "source": [
        "Definir modelo do Embedding\n"
      ],
      "metadata": {
        "id": "5unbjeV8kp1h"
      }
    },
    {
      "cell_type": "code",
      "source": [
        "model = \"models/embedding-001\""
      ],
      "metadata": {
        "id": "aOkFAi1uleMz"
      },
      "execution_count": 9,
      "outputs": []
    },
    {
      "cell_type": "code",
      "source": [
        "def embed_fn(title, text):\n",
        "  return genai.embed_content(model=model,\n",
        "                                 content=text,\n",
        "                                 title=title,\n",
        "                                 task_type=\"RETRIEVAL_DOCUMENT\")[\"embedding\"]"
      ],
      "metadata": {
        "id": "pFslqkLiljH-"
      },
      "execution_count": 10,
      "outputs": []
    },
    {
      "cell_type": "markdown",
      "source": [
        "Exibir novo banco de dados com a nova coluna criada - Embeddings\n"
      ],
      "metadata": {
        "id": "OZr6jH3ulnif"
      }
    },
    {
      "cell_type": "code",
      "source": [
        "df[\"Embeddings\"] = df.apply(lambda row: embed_fn(row[\"Titulo\"], row[\"Conteudo\"]), axis=1)\n",
        "df"
      ],
      "metadata": {
        "colab": {
          "base_uri": "https://localhost:8080/",
          "height": 230
        },
        "id": "XwssEMaQlsgR",
        "outputId": "d4bcbbb5-4881-4f0c-f0bb-bc796566e43a"
      },
      "execution_count": 11,
      "outputs": [
        {
          "output_type": "execute_result",
          "data": {
            "text/plain": [
              "                                              Titulo  \\\n",
              "0                                   EMPREENDEDORISMO   \n",
              "1  Saiba qual é o caminho feito por animais resga...   \n",
              "2               Qual a primeira vaca a pisar na lua?   \n",
              "\n",
              "                                            Conteudo  \\\n",
              "0  O empreendedorismo é o resultado da ação do em...   \n",
              "1  O que é feito após os resgates Após o resgate,...   \n",
              "2  Até o dia 11 de maio de 2024, nenhuma vaca jam...   \n",
              "\n",
              "                            Autor Ano_de_Publicacao N_Paginas  \\\n",
              "0  Moura, Lilian da Silva Almeida              2019       149   \n",
              "1                 Chagas, Gustavo              2024             \n",
              "2                         Germini      1.0 Pro 2024             \n",
              "\n",
              "           Editora             Cidade  \\\n",
              "0  Ser Educacional             Recife   \n",
              "1               G1  Rio Grande do Sul   \n",
              "2     Google Cloud                      \n",
              "\n",
              "                                                Site Data_Acesso  \\\n",
              "0                                                     10/05/2023   \n",
              "1  https://g1.globo.com/rs/rio-grande-do-sul/noti...  11/05/2024   \n",
              "2     https://gemini.google.com/app/b78ffed0e0cf7adb  11/05/2024   \n",
              "\n",
              "  tipo_de_midia                                         Embeddings  \n",
              "0             1  [-0.0067193354, -0.026385615, -0.005792571, 0....  \n",
              "1             2  [0.043025617, 0.00034910356, -0.050872944, 0.0...  \n",
              "2             3  [0.060817145, 0.005449968, -0.04541546, 0.0271...  "
            ],
            "text/html": [
              "\n",
              "  <div id=\"df-8ee4814e-bf5f-47cc-ab48-976094cad01c\" class=\"colab-df-container\">\n",
              "    <div>\n",
              "<style scoped>\n",
              "    .dataframe tbody tr th:only-of-type {\n",
              "        vertical-align: middle;\n",
              "    }\n",
              "\n",
              "    .dataframe tbody tr th {\n",
              "        vertical-align: top;\n",
              "    }\n",
              "\n",
              "    .dataframe thead th {\n",
              "        text-align: right;\n",
              "    }\n",
              "</style>\n",
              "<table border=\"1\" class=\"dataframe\">\n",
              "  <thead>\n",
              "    <tr style=\"text-align: right;\">\n",
              "      <th></th>\n",
              "      <th>Titulo</th>\n",
              "      <th>Conteudo</th>\n",
              "      <th>Autor</th>\n",
              "      <th>Ano_de_Publicacao</th>\n",
              "      <th>N_Paginas</th>\n",
              "      <th>Editora</th>\n",
              "      <th>Cidade</th>\n",
              "      <th>Site</th>\n",
              "      <th>Data_Acesso</th>\n",
              "      <th>tipo_de_midia</th>\n",
              "      <th>Embeddings</th>\n",
              "    </tr>\n",
              "  </thead>\n",
              "  <tbody>\n",
              "    <tr>\n",
              "      <th>0</th>\n",
              "      <td>EMPREENDEDORISMO</td>\n",
              "      <td>O empreendedorismo é o resultado da ação do em...</td>\n",
              "      <td>Moura, Lilian da Silva Almeida</td>\n",
              "      <td>2019</td>\n",
              "      <td>149</td>\n",
              "      <td>Ser Educacional</td>\n",
              "      <td>Recife</td>\n",
              "      <td></td>\n",
              "      <td>10/05/2023</td>\n",
              "      <td>1</td>\n",
              "      <td>[-0.0067193354, -0.026385615, -0.005792571, 0....</td>\n",
              "    </tr>\n",
              "    <tr>\n",
              "      <th>1</th>\n",
              "      <td>Saiba qual é o caminho feito por animais resga...</td>\n",
              "      <td>O que é feito após os resgates Após o resgate,...</td>\n",
              "      <td>Chagas, Gustavo</td>\n",
              "      <td>2024</td>\n",
              "      <td></td>\n",
              "      <td>G1</td>\n",
              "      <td>Rio Grande do Sul</td>\n",
              "      <td>https://g1.globo.com/rs/rio-grande-do-sul/noti...</td>\n",
              "      <td>11/05/2024</td>\n",
              "      <td>2</td>\n",
              "      <td>[0.043025617, 0.00034910356, -0.050872944, 0.0...</td>\n",
              "    </tr>\n",
              "    <tr>\n",
              "      <th>2</th>\n",
              "      <td>Qual a primeira vaca a pisar na lua?</td>\n",
              "      <td>Até o dia 11 de maio de 2024, nenhuma vaca jam...</td>\n",
              "      <td>Germini</td>\n",
              "      <td>1.0 Pro 2024</td>\n",
              "      <td></td>\n",
              "      <td>Google Cloud</td>\n",
              "      <td></td>\n",
              "      <td>https://gemini.google.com/app/b78ffed0e0cf7adb</td>\n",
              "      <td>11/05/2024</td>\n",
              "      <td>3</td>\n",
              "      <td>[0.060817145, 0.005449968, -0.04541546, 0.0271...</td>\n",
              "    </tr>\n",
              "  </tbody>\n",
              "</table>\n",
              "</div>\n",
              "    <div class=\"colab-df-buttons\">\n",
              "\n",
              "  <div class=\"colab-df-container\">\n",
              "    <button class=\"colab-df-convert\" onclick=\"convertToInteractive('df-8ee4814e-bf5f-47cc-ab48-976094cad01c')\"\n",
              "            title=\"Convert this dataframe to an interactive table.\"\n",
              "            style=\"display:none;\">\n",
              "\n",
              "  <svg xmlns=\"http://www.w3.org/2000/svg\" height=\"24px\" viewBox=\"0 -960 960 960\">\n",
              "    <path d=\"M120-120v-720h720v720H120Zm60-500h600v-160H180v160Zm220 220h160v-160H400v160Zm0 220h160v-160H400v160ZM180-400h160v-160H180v160Zm440 0h160v-160H620v160ZM180-180h160v-160H180v160Zm440 0h160v-160H620v160Z\"/>\n",
              "  </svg>\n",
              "    </button>\n",
              "\n",
              "  <style>\n",
              "    .colab-df-container {\n",
              "      display:flex;\n",
              "      gap: 12px;\n",
              "    }\n",
              "\n",
              "    .colab-df-convert {\n",
              "      background-color: #E8F0FE;\n",
              "      border: none;\n",
              "      border-radius: 50%;\n",
              "      cursor: pointer;\n",
              "      display: none;\n",
              "      fill: #1967D2;\n",
              "      height: 32px;\n",
              "      padding: 0 0 0 0;\n",
              "      width: 32px;\n",
              "    }\n",
              "\n",
              "    .colab-df-convert:hover {\n",
              "      background-color: #E2EBFA;\n",
              "      box-shadow: 0px 1px 2px rgba(60, 64, 67, 0.3), 0px 1px 3px 1px rgba(60, 64, 67, 0.15);\n",
              "      fill: #174EA6;\n",
              "    }\n",
              "\n",
              "    .colab-df-buttons div {\n",
              "      margin-bottom: 4px;\n",
              "    }\n",
              "\n",
              "    [theme=dark] .colab-df-convert {\n",
              "      background-color: #3B4455;\n",
              "      fill: #D2E3FC;\n",
              "    }\n",
              "\n",
              "    [theme=dark] .colab-df-convert:hover {\n",
              "      background-color: #434B5C;\n",
              "      box-shadow: 0px 1px 3px 1px rgba(0, 0, 0, 0.15);\n",
              "      filter: drop-shadow(0px 1px 2px rgba(0, 0, 0, 0.3));\n",
              "      fill: #FFFFFF;\n",
              "    }\n",
              "  </style>\n",
              "\n",
              "    <script>\n",
              "      const buttonEl =\n",
              "        document.querySelector('#df-8ee4814e-bf5f-47cc-ab48-976094cad01c button.colab-df-convert');\n",
              "      buttonEl.style.display =\n",
              "        google.colab.kernel.accessAllowed ? 'block' : 'none';\n",
              "\n",
              "      async function convertToInteractive(key) {\n",
              "        const element = document.querySelector('#df-8ee4814e-bf5f-47cc-ab48-976094cad01c');\n",
              "        const dataTable =\n",
              "          await google.colab.kernel.invokeFunction('convertToInteractive',\n",
              "                                                    [key], {});\n",
              "        if (!dataTable) return;\n",
              "\n",
              "        const docLinkHtml = 'Like what you see? Visit the ' +\n",
              "          '<a target=\"_blank\" href=https://colab.research.google.com/notebooks/data_table.ipynb>data table notebook</a>'\n",
              "          + ' to learn more about interactive tables.';\n",
              "        element.innerHTML = '';\n",
              "        dataTable['output_type'] = 'display_data';\n",
              "        await google.colab.output.renderOutput(dataTable, element);\n",
              "        const docLink = document.createElement('div');\n",
              "        docLink.innerHTML = docLinkHtml;\n",
              "        element.appendChild(docLink);\n",
              "      }\n",
              "    </script>\n",
              "  </div>\n",
              "\n",
              "\n",
              "<div id=\"df-3cbee508-adb6-493a-ac9b-96ec0da326b7\">\n",
              "  <button class=\"colab-df-quickchart\" onclick=\"quickchart('df-3cbee508-adb6-493a-ac9b-96ec0da326b7')\"\n",
              "            title=\"Suggest charts\"\n",
              "            style=\"display:none;\">\n",
              "\n",
              "<svg xmlns=\"http://www.w3.org/2000/svg\" height=\"24px\"viewBox=\"0 0 24 24\"\n",
              "     width=\"24px\">\n",
              "    <g>\n",
              "        <path d=\"M19 3H5c-1.1 0-2 .9-2 2v14c0 1.1.9 2 2 2h14c1.1 0 2-.9 2-2V5c0-1.1-.9-2-2-2zM9 17H7v-7h2v7zm4 0h-2V7h2v10zm4 0h-2v-4h2v4z\"/>\n",
              "    </g>\n",
              "</svg>\n",
              "  </button>\n",
              "\n",
              "<style>\n",
              "  .colab-df-quickchart {\n",
              "      --bg-color: #E8F0FE;\n",
              "      --fill-color: #1967D2;\n",
              "      --hover-bg-color: #E2EBFA;\n",
              "      --hover-fill-color: #174EA6;\n",
              "      --disabled-fill-color: #AAA;\n",
              "      --disabled-bg-color: #DDD;\n",
              "  }\n",
              "\n",
              "  [theme=dark] .colab-df-quickchart {\n",
              "      --bg-color: #3B4455;\n",
              "      --fill-color: #D2E3FC;\n",
              "      --hover-bg-color: #434B5C;\n",
              "      --hover-fill-color: #FFFFFF;\n",
              "      --disabled-bg-color: #3B4455;\n",
              "      --disabled-fill-color: #666;\n",
              "  }\n",
              "\n",
              "  .colab-df-quickchart {\n",
              "    background-color: var(--bg-color);\n",
              "    border: none;\n",
              "    border-radius: 50%;\n",
              "    cursor: pointer;\n",
              "    display: none;\n",
              "    fill: var(--fill-color);\n",
              "    height: 32px;\n",
              "    padding: 0;\n",
              "    width: 32px;\n",
              "  }\n",
              "\n",
              "  .colab-df-quickchart:hover {\n",
              "    background-color: var(--hover-bg-color);\n",
              "    box-shadow: 0 1px 2px rgba(60, 64, 67, 0.3), 0 1px 3px 1px rgba(60, 64, 67, 0.15);\n",
              "    fill: var(--button-hover-fill-color);\n",
              "  }\n",
              "\n",
              "  .colab-df-quickchart-complete:disabled,\n",
              "  .colab-df-quickchart-complete:disabled:hover {\n",
              "    background-color: var(--disabled-bg-color);\n",
              "    fill: var(--disabled-fill-color);\n",
              "    box-shadow: none;\n",
              "  }\n",
              "\n",
              "  .colab-df-spinner {\n",
              "    border: 2px solid var(--fill-color);\n",
              "    border-color: transparent;\n",
              "    border-bottom-color: var(--fill-color);\n",
              "    animation:\n",
              "      spin 1s steps(1) infinite;\n",
              "  }\n",
              "\n",
              "  @keyframes spin {\n",
              "    0% {\n",
              "      border-color: transparent;\n",
              "      border-bottom-color: var(--fill-color);\n",
              "      border-left-color: var(--fill-color);\n",
              "    }\n",
              "    20% {\n",
              "      border-color: transparent;\n",
              "      border-left-color: var(--fill-color);\n",
              "      border-top-color: var(--fill-color);\n",
              "    }\n",
              "    30% {\n",
              "      border-color: transparent;\n",
              "      border-left-color: var(--fill-color);\n",
              "      border-top-color: var(--fill-color);\n",
              "      border-right-color: var(--fill-color);\n",
              "    }\n",
              "    40% {\n",
              "      border-color: transparent;\n",
              "      border-right-color: var(--fill-color);\n",
              "      border-top-color: var(--fill-color);\n",
              "    }\n",
              "    60% {\n",
              "      border-color: transparent;\n",
              "      border-right-color: var(--fill-color);\n",
              "    }\n",
              "    80% {\n",
              "      border-color: transparent;\n",
              "      border-right-color: var(--fill-color);\n",
              "      border-bottom-color: var(--fill-color);\n",
              "    }\n",
              "    90% {\n",
              "      border-color: transparent;\n",
              "      border-bottom-color: var(--fill-color);\n",
              "    }\n",
              "  }\n",
              "</style>\n",
              "\n",
              "  <script>\n",
              "    async function quickchart(key) {\n",
              "      const quickchartButtonEl =\n",
              "        document.querySelector('#' + key + ' button');\n",
              "      quickchartButtonEl.disabled = true;  // To prevent multiple clicks.\n",
              "      quickchartButtonEl.classList.add('colab-df-spinner');\n",
              "      try {\n",
              "        const charts = await google.colab.kernel.invokeFunction(\n",
              "            'suggestCharts', [key], {});\n",
              "      } catch (error) {\n",
              "        console.error('Error during call to suggestCharts:', error);\n",
              "      }\n",
              "      quickchartButtonEl.classList.remove('colab-df-spinner');\n",
              "      quickchartButtonEl.classList.add('colab-df-quickchart-complete');\n",
              "    }\n",
              "    (() => {\n",
              "      let quickchartButtonEl =\n",
              "        document.querySelector('#df-3cbee508-adb6-493a-ac9b-96ec0da326b7 button');\n",
              "      quickchartButtonEl.style.display =\n",
              "        google.colab.kernel.accessAllowed ? 'block' : 'none';\n",
              "    })();\n",
              "  </script>\n",
              "</div>\n",
              "\n",
              "  <div id=\"id_1afc38d4-6647-4925-bbe9-5bca7803dc0d\">\n",
              "    <style>\n",
              "      .colab-df-generate {\n",
              "        background-color: #E8F0FE;\n",
              "        border: none;\n",
              "        border-radius: 50%;\n",
              "        cursor: pointer;\n",
              "        display: none;\n",
              "        fill: #1967D2;\n",
              "        height: 32px;\n",
              "        padding: 0 0 0 0;\n",
              "        width: 32px;\n",
              "      }\n",
              "\n",
              "      .colab-df-generate:hover {\n",
              "        background-color: #E2EBFA;\n",
              "        box-shadow: 0px 1px 2px rgba(60, 64, 67, 0.3), 0px 1px 3px 1px rgba(60, 64, 67, 0.15);\n",
              "        fill: #174EA6;\n",
              "      }\n",
              "\n",
              "      [theme=dark] .colab-df-generate {\n",
              "        background-color: #3B4455;\n",
              "        fill: #D2E3FC;\n",
              "      }\n",
              "\n",
              "      [theme=dark] .colab-df-generate:hover {\n",
              "        background-color: #434B5C;\n",
              "        box-shadow: 0px 1px 3px 1px rgba(0, 0, 0, 0.15);\n",
              "        filter: drop-shadow(0px 1px 2px rgba(0, 0, 0, 0.3));\n",
              "        fill: #FFFFFF;\n",
              "      }\n",
              "    </style>\n",
              "    <button class=\"colab-df-generate\" onclick=\"generateWithVariable('df')\"\n",
              "            title=\"Generate code using this dataframe.\"\n",
              "            style=\"display:none;\">\n",
              "\n",
              "  <svg xmlns=\"http://www.w3.org/2000/svg\" height=\"24px\"viewBox=\"0 0 24 24\"\n",
              "       width=\"24px\">\n",
              "    <path d=\"M7,19H8.4L18.45,9,17,7.55,7,17.6ZM5,21V16.75L18.45,3.32a2,2,0,0,1,2.83,0l1.4,1.43a1.91,1.91,0,0,1,.58,1.4,1.91,1.91,0,0,1-.58,1.4L9.25,21ZM18.45,9,17,7.55Zm-12,3A5.31,5.31,0,0,0,4.9,8.1,5.31,5.31,0,0,0,1,6.5,5.31,5.31,0,0,0,4.9,4.9,5.31,5.31,0,0,0,6.5,1,5.31,5.31,0,0,0,8.1,4.9,5.31,5.31,0,0,0,12,6.5,5.46,5.46,0,0,0,6.5,12Z\"/>\n",
              "  </svg>\n",
              "    </button>\n",
              "    <script>\n",
              "      (() => {\n",
              "      const buttonEl =\n",
              "        document.querySelector('#id_1afc38d4-6647-4925-bbe9-5bca7803dc0d button.colab-df-generate');\n",
              "      buttonEl.style.display =\n",
              "        google.colab.kernel.accessAllowed ? 'block' : 'none';\n",
              "\n",
              "      buttonEl.onclick = () => {\n",
              "        google.colab.notebook.generateWithVariable('df');\n",
              "      }\n",
              "      })();\n",
              "    </script>\n",
              "  </div>\n",
              "\n",
              "    </div>\n",
              "  </div>\n"
            ],
            "application/vnd.google.colaboratory.intrinsic+json": {
              "type": "dataframe",
              "variable_name": "df",
              "summary": "{\n  \"name\": \"df\",\n  \"rows\": 3,\n  \"fields\": [\n    {\n      \"column\": \"Titulo\",\n      \"properties\": {\n        \"dtype\": \"string\",\n        \"num_unique_values\": 3,\n        \"samples\": [\n          \"EMPREENDEDORISMO\",\n          \"Saiba qual \\u00e9 o caminho feito por animais resgatados ap\\u00f3s as cheias no RS; 10 mil bichos foram salvos\",\n          \"Qual a primeira vaca a pisar na lua?\"\n        ],\n        \"semantic_type\": \"\",\n        \"description\": \"\"\n      }\n    },\n    {\n      \"column\": \"Conteudo\",\n      \"properties\": {\n        \"dtype\": \"string\",\n        \"num_unique_values\": 3,\n        \"samples\": [\n          \"O empreendedorismo \\u00e9 o resultado da a\\u00e7\\u00e3o do empreendedor. Em ou tras palavras, \\u00e9 aquilo colocado em pr\\u00e1tica que gera lucros e riquezas para a  empresa e o pa\\u00eds. A pr\\u00e1tica ficou conhecida em 1950 pelo economista fran c\\u00eas Joseph Schumpeter, que classificava empreendedores como pessoas de  sucesso por meio da criatividade e inova\\u00e7\\u00e3o. Seguindo a mesma linha de  racioc\\u00ednio, o Doutor Jangui\\u00ea Diniz conceitua empreendedorismo como um  dos principais fatores que desenvolvem economicamente uma na\\u00e7\\u00e3o.  Ainda, o professor defende que o empreendedor \\u00e9 estimulado pela fam\\u00ed lia. Dessa forma, se voc\\u00ea nasceu em uma fam\\u00edlia de empreendedores, voc\\u00ea  ter\\u00e1 maior propens\\u00e3o de se tornar um empreendedor, ou seja, se temos algum  exemplo de empreendedorismo na fam\\u00edlia, \\u00e9 bem prov\\u00e1vel que possamos de senvolver a ideia de empreender. Se n\\u00e3o temos nenhum exemplo, a tend\\u00eancia \\u00e9  buscarmos por empregos que nos deem mais estabilidade, como empregos de  carteira assinada e concursos p\\u00fablicos.  Consideramos, assim, que o empreendedorismo \\u00e9 uma quest\\u00e3o cultural,  ou seja, \\u00e9 uma cultura passada de pai para filho. Portanto, se o pensamento do  pai for negativo em rela\\u00e7\\u00e3o ao processo de empreender, vendo a atividade como  capitalista, nociva e gananciosa, os filhos ter\\u00e3o a mesma imagem do empreende dorismo. E, por acharem que isto n\\u00e3o \\u00e9 legal, n\\u00e3o achar\\u00e3o importante empreen der e ir\\u00e3o buscar outras op\\u00e7\\u00f5es de trabalho.\",\n          \"O que \\u00e9 feito ap\\u00f3s os resgates Ap\\u00f3s o resgate, a primeira etapa \\u00e9 o transporte, em seguran\\u00e7a, para abrigos ou unidades de acolhimento. A segunda etapa \\u00e9 uma triagem veterin\\u00e1ria, para verificar as condi\\u00e7\\u00f5es de sa\\u00fade do animal.  Os animais que est\\u00e3o em bom estado de sa\\u00fade, mas sem o tutor identificado, s\\u00e3o direcionados para abrigos p\\u00fablicos ou espa\\u00e7os do Grad. Caso estejam com hipotermia ou les\\u00f5es, os bichos s\\u00e3o encaminhados para a cl\\u00ednica veterin\\u00e1ria mais pr\\u00f3xima.  Al\\u00e9m disso, h\\u00e1 pessoas que levam os animais consigo, para os abrigos onde a presen\\u00e7a de pets \\u00e9 permitida. Tamb\\u00e9m h\\u00e1 abrigos privados montados por pessoas e entidades de defesa da causa animal.\",\n          \"At\\u00e9 o dia 11 de maio de 2024, nenhuma vaca jamais pisou na Lua.  Apesar de haver hist\\u00f3rias infantis e brincadeiras que imaginam vacas na Lua, na realidade, nenhuma miss\\u00e3o espacial levou vacas ou outros animais para l\\u00e1. As viagens espaciais s\\u00e3o extremamente desafiadoras e exigem tecnologia e planejamento complexos, priorizando a seguran\\u00e7a e o sucesso da miss\\u00e3o.  Levar uma vaca \\u00e0 Lua apresentaria diversos desafios:  Transporte: As espa\\u00e7onaves s\\u00e3o projetadas para transportar astronautas e equipamentos essenciais, com espa\\u00e7o e peso limitados. Transportar uma vaca grande e pesada exigiria modifica\\u00e7\\u00f5es significativas na espa\\u00e7onave, comprometendo outros aspectos da miss\\u00e3o. Fisiologia: A baixa gravidade da Lua afetaria o sistema digestivo, cardiovascular e musculoesquel\\u00e9tico da vaca, causando estresse e problemas de sa\\u00fade. Suporte de vida: A vaca precisaria de um sistema de suporte de vida completo, fornecendo oxig\\u00eanio, \\u00e1gua, alimentos e controle de temperatura, o que aumentaria significativamente a complexidade e o custo da miss\\u00e3o. Alimenta\\u00e7\\u00e3o: A vaca precisaria de uma quantidade significativa de alimentos e \\u00e1gua, que precisariam ser transportados da Terra, aumentando ainda mais o peso e a complexidade da miss\\u00e3o. Treinamento: Treinar uma vaca para se comportar adequadamente em um ambiente espacial seria extremamente dif\\u00edcil e provavelmente infrut\\u00edfero. Em resumo, enviar uma vaca \\u00e0 Lua \\u00e9 atualmente invi\\u00e1vel do ponto de vista t\\u00e9cnico, log\\u00edstico e \\u00e9tico.  No entanto, a explora\\u00e7\\u00e3o espacial continua a evoluir, e quem sabe no futuro tecnologias e m\\u00e9todos inovadores permitir\\u00e3o que animais como vacas sejam enviados para outros planetas.\"\n        ],\n        \"semantic_type\": \"\",\n        \"description\": \"\"\n      }\n    },\n    {\n      \"column\": \"Autor\",\n      \"properties\": {\n        \"dtype\": \"string\",\n        \"num_unique_values\": 3,\n        \"samples\": [\n          \"Moura, Lilian da Silva Almeida\",\n          \"Chagas, Gustavo\",\n          \"Germini\"\n        ],\n        \"semantic_type\": \"\",\n        \"description\": \"\"\n      }\n    },\n    {\n      \"column\": \"Ano_de_Publicacao\",\n      \"properties\": {\n        \"dtype\": \"string\",\n        \"num_unique_values\": 3,\n        \"samples\": [\n          \"2019\",\n          \"2024\",\n          \"1.0 Pro 2024\"\n        ],\n        \"semantic_type\": \"\",\n        \"description\": \"\"\n      }\n    },\n    {\n      \"column\": \"N_Paginas\",\n      \"properties\": {\n        \"dtype\": \"string\",\n        \"num_unique_values\": 2,\n        \"samples\": [\n          \"\",\n          \"149\"\n        ],\n        \"semantic_type\": \"\",\n        \"description\": \"\"\n      }\n    },\n    {\n      \"column\": \"Editora\",\n      \"properties\": {\n        \"dtype\": \"string\",\n        \"num_unique_values\": 3,\n        \"samples\": [\n          \"Ser Educacional\",\n          \"G1\"\n        ],\n        \"semantic_type\": \"\",\n        \"description\": \"\"\n      }\n    },\n    {\n      \"column\": \"Cidade\",\n      \"properties\": {\n        \"dtype\": \"string\",\n        \"num_unique_values\": 3,\n        \"samples\": [\n          \"Recife\",\n          \"Rio Grande do Sul\"\n        ],\n        \"semantic_type\": \"\",\n        \"description\": \"\"\n      }\n    },\n    {\n      \"column\": \"Site\",\n      \"properties\": {\n        \"dtype\": \"string\",\n        \"num_unique_values\": 3,\n        \"samples\": [\n          \"\",\n          \"https://g1.globo.com/rs/rio-grande-do-sul/noticia/2024/05/11/saiba-qual-e-o-caminho-feito-por-animais-resgatados-apos-as-cheias-no-rs-10-mil-bichos-foram-salvos.ghtml\"\n        ],\n        \"semantic_type\": \"\",\n        \"description\": \"\"\n      }\n    },\n    {\n      \"column\": \"Data_Acesso\",\n      \"properties\": {\n        \"dtype\": \"object\",\n        \"num_unique_values\": 2,\n        \"samples\": [\n          \"11/05/2024\",\n          \"10/05/2023\"\n        ],\n        \"semantic_type\": \"\",\n        \"description\": \"\"\n      }\n    },\n    {\n      \"column\": \"tipo_de_midia\",\n      \"properties\": {\n        \"dtype\": \"string\",\n        \"num_unique_values\": 3,\n        \"samples\": [\n          \"1\",\n          \"2\"\n        ],\n        \"semantic_type\": \"\",\n        \"description\": \"\"\n      }\n    },\n    {\n      \"column\": \"Embeddings\",\n      \"properties\": {\n        \"dtype\": \"object\",\n        \"semantic_type\": \"\",\n        \"description\": \"\"\n      }\n    }\n  ]\n}"
            }
          },
          "metadata": {},
          "execution_count": 11
        }
      ]
    },
    {
      "cell_type": "markdown",
      "source": [
        "Formulando o calculo (Criando um método) para definir a proximidade estatistica da pergunta, com o documento, atravez dos embeddings"
      ],
      "metadata": {
        "id": "sLzBKfwnngPX"
      }
    },
    {
      "cell_type": "code",
      "source": [
        "def gerar_e_buscar_consulta(consulta, base, model):\n",
        "  embedding_da_consulta = genai.embed_content(model=model,\n",
        "                                 content=consulta,\n",
        "                                 task_type=\"RETRIEVAL_QUERY\")[\"embedding\"]\n",
        "\n",
        "  produtos_escalares = np.dot(np.stack(df[\"Embeddings\"]), embedding_da_consulta)\n",
        "\n",
        "  indice = np.argmax(produtos_escalares)\n",
        "  return df.iloc[indice][\"Conteudo\"]"
      ],
      "metadata": {
        "id": "8NOKvnXSntXU"
      },
      "execution_count": 12,
      "outputs": []
    },
    {
      "cell_type": "markdown",
      "source": [
        "Abrindo espaço para a consulta pelo usuario, Aciona o método, que traz o indice (posição do embedding mais próximo de contexto) e expoe o conteudo"
      ],
      "metadata": {
        "id": "yanlUhQ9oNSq"
      }
    },
    {
      "cell_type": "code",
      "source": [
        "consulta = input(\"Consulte um argumento: \\n\")\n",
        "\n",
        "trecho = gerar_e_buscar_consulta(consulta, df, model)\n",
        "print(trecho)"
      ],
      "metadata": {
        "colab": {
          "base_uri": "https://localhost:8080/",
          "height": 89
        },
        "id": "aN7pjTBCo6Ao",
        "outputId": "00aab209-7b9c-44aa-c6ec-d5fb07ab73e7"
      },
      "execution_count": 38,
      "outputs": [
        {
          "output_type": "stream",
          "name": "stdout",
          "text": [
            "Consulte um argumento: \n",
            "quem sabe no futuro até as vacas possam ir ao espaço\n",
            "Até o dia 11 de maio de 2024, nenhuma vaca jamais pisou na Lua.  Apesar de haver histórias infantis e brincadeiras que imaginam vacas na Lua, na realidade, nenhuma missão espacial levou vacas ou outros animais para lá. As viagens espaciais são extremamente desafiadoras e exigem tecnologia e planejamento complexos, priorizando a segurança e o sucesso da missão.  Levar uma vaca à Lua apresentaria diversos desafios:  Transporte: As espaçonaves são projetadas para transportar astronautas e equipamentos essenciais, com espaço e peso limitados. Transportar uma vaca grande e pesada exigiria modificações significativas na espaçonave, comprometendo outros aspectos da missão. Fisiologia: A baixa gravidade da Lua afetaria o sistema digestivo, cardiovascular e musculoesquelético da vaca, causando estresse e problemas de saúde. Suporte de vida: A vaca precisaria de um sistema de suporte de vida completo, fornecendo oxigênio, água, alimentos e controle de temperatura, o que aumentaria significativamente a complexidade e o custo da missão. Alimentação: A vaca precisaria de uma quantidade significativa de alimentos e água, que precisariam ser transportados da Terra, aumentando ainda mais o peso e a complexidade da missão. Treinamento: Treinar uma vaca para se comportar adequadamente em um ambiente espacial seria extremamente difícil e provavelmente infrutífero. Em resumo, enviar uma vaca à Lua é atualmente inviável do ponto de vista técnico, logístico e ético.  No entanto, a exploração espacial continua a evoluir, e quem sabe no futuro tecnologias e métodos inovadores permitirão que animais como vacas sejam enviados para outros planetas.\n"
          ]
        }
      ]
    },
    {
      "cell_type": "markdown",
      "source": [
        "Conectando ao Germini e inserindo configurações"
      ],
      "metadata": {
        "id": "Jgx9tD_Zpd7L"
      }
    },
    {
      "cell_type": "code",
      "source": [
        "generation_config = {\n",
        "  \"temperature\": 0.5,\n",
        "  \"candidate_count\": 1\n",
        "}"
      ],
      "metadata": {
        "id": "QlU1hg-YpyR8"
      },
      "execution_count": 39,
      "outputs": []
    },
    {
      "cell_type": "markdown",
      "source": [
        "Colocando o Germini para ler o Ducumento, retornar apenas um paragrafo com o conteudo mais próximo ao argumento inserido pelo usuario"
      ],
      "metadata": {
        "id": "RDjOhp_ipzOq"
      }
    },
    {
      "cell_type": "code",
      "source": [
        "prompt = f\"Leia o texto:{trecho} E escreva exatamente o paragrafo que mais se aproxima do que foi dito nesse argumento: {consulta}, caso não tenha um paragrafo especifico traga algum trecho do texto que corrabore com a ideia. \"\n",
        "\n",
        "model_2 = genai.GenerativeModel(\"gemini-1.0-pro\",\n",
        "                                generation_config=generation_config)\n",
        "response = model_2.generate_content(prompt)\n",
        "print(response.text)"
      ],
      "metadata": {
        "colab": {
          "base_uri": "https://localhost:8080/",
          "height": 34
        },
        "id": "J77p3qOtpy-B",
        "outputId": "6c011278-d07a-444d-d5f8-0511b7017ac4"
      },
      "execution_count": 40,
      "outputs": [
        {
          "output_type": "stream",
          "name": "stdout",
          "text": [
            "\"No entanto, a exploração espacial continua a evoluir, e quem sabe no futuro tecnologias e métodos inovadores permitirão que animais como vacas sejam enviados para outros planetas.\"\n"
          ]
        }
      ]
    },
    {
      "cell_type": "markdown",
      "source": [
        "Contruindo um método para montar a referência bibliografica"
      ],
      "metadata": {
        "id": "2GtXVwrwru7P"
      }
    },
    {
      "cell_type": "code",
      "source": [
        "def gerar_e_buscar_referencia(consulta, base, model):\n",
        "  embedding_da_consulta = genai.embed_content(model=model,\n",
        "                                 content=consulta,\n",
        "                                 task_type=\"RETRIEVAL_QUERY\")[\"embedding\"]\n",
        "\n",
        "  produtos_escalares = np.dot(np.stack(df[\"Embeddings\"]), embedding_da_consulta)\n",
        "\n",
        "  indice = np.argmax(produtos_escalares)\n",
        "  #return df.iloc[indice][\"Titulo\"] #, df.iloc[indice][\"Conteudo\"]\n",
        "  return indice"
      ],
      "metadata": {
        "id": "5w95L_6er4gd"
      },
      "execution_count": 41,
      "outputs": []
    },
    {
      "cell_type": "code",
      "source": [
        "indice = gerar_e_buscar_referencia(consulta, df, model)"
      ],
      "metadata": {
        "id": "TZP2c1V1RpxX"
      },
      "execution_count": 42,
      "outputs": []
    },
    {
      "cell_type": "markdown",
      "source": [
        "Extrutura da Referencia bibliografica, salvando em cada variavel correspondente, cada informação das celulas das tabelas(ou vetores)\n"
      ],
      "metadata": {
        "id": "_9DBAtgnrC3n"
      }
    },
    {
      "cell_type": "code",
      "source": [
        "  autor = df.iloc[indice][\"Autor\"] #É interessante já por no banco, na ordem correta de sobrenome, nome.\n",
        "  titulo = df.iloc[indice][\"Titulo\"] #negrito\n",
        "  ano_publi = df.iloc[indice][\"Ano_de_Publicacao\"] #Ano de publicação\n",
        "  pag = df.iloc[indice][\"N_Paginas\"] #Numero de paginas\n",
        "  editora = df.iloc[indice][\"Editora\"] #Nome da editora\n",
        "  cidade = df.iloc[indice][\"Cidade\"] #Cidade de publicação\n",
        "  site = df.iloc[indice][\"Site\"] #Site ou LInk de acesso, onde está disponivel\n",
        "  dat_acess = df.iloc[indice][\"Data_Acesso\"] #data que o documento foi acessado por você\n",
        "  tipo_mid = df.iloc[indice][\"tipo_de_midia\"] #Numero correspondente a mídia escolhida\n",
        "\n",
        "resposta = response.text\n"
      ],
      "metadata": {
        "id": "RcuGdZ6Httfw"
      },
      "execution_count": 43,
      "outputs": []
    },
    {
      "cell_type": "markdown",
      "source": [
        "Criando os modelos de Referencia:"
      ],
      "metadata": {
        "id": "umRK-Dbas7o4"
      }
    },
    {
      "cell_type": "code",
      "source": [
        "referencia1 = f'{autor}, **{titulo}**. Ano: {ano_publi}, {pag}p, Editora: {editora}, {cidade}. Disponivel em: {site}, Acessado em: {dat_acess}.'\n",
        "referencia2 = f'{autor}, {titulo}.,**{editora}**, Ano: {ano_publi}, {cidade}. Disponivel em: {site}, Acessado em: {dat_acess}.'\n",
        "referencia3 = f'{editora}, **{titulo}**.{autor} Versão de: {ano_publi}, Inteligência Artificial, Disponivel em: {site}, Acessado em: {dat_acess}.'\n",
        "print(tipo_mid)"
      ],
      "metadata": {
        "colab": {
          "base_uri": "https://localhost:8080/"
        },
        "id": "pNu1Fyaks6Wd",
        "outputId": "b9bc6646-fe86-4927-ff74-82a26f6adcc1"
      },
      "execution_count": 44,
      "outputs": [
        {
          "output_type": "stream",
          "name": "stdout",
          "text": [
            "3\n"
          ]
        }
      ]
    },
    {
      "cell_type": "markdown",
      "source": [
        "Definindo qual a referencia correta:"
      ],
      "metadata": {
        "id": "_pKFfXQRtJHd"
      }
    },
    {
      "cell_type": "code",
      "source": [
        "if tipo_mid == '1':\n",
        "   referencia = referencia1\n",
        "else:\n",
        "  if tipo_mid == '2':\n",
        "     referencia = referencia2\n",
        "  else:\n",
        "    if tipo_mid == '3':\n",
        "       referencia = referencia3\n",
        "    else:\n",
        "       referencia = (f'{referencia1} \\n\\nOBS: O tipo de documento não foi inserido corretamente, está referencia é a mais completa,com base na referencia de livro, mas se for outra mídia precisa de ajustes e Edição')\n"
      ],
      "metadata": {
        "id": "86_TF8rItI0V"
      },
      "execution_count": 45,
      "outputs": []
    },
    {
      "cell_type": "code",
      "source": [
        "print(referencia)"
      ],
      "metadata": {
        "colab": {
          "base_uri": "https://localhost:8080/"
        },
        "id": "F5-xBk4F-uV-",
        "outputId": "bed658d3-5486-49bb-d3a6-4a16d0d0e81b"
      },
      "execution_count": 46,
      "outputs": [
        {
          "output_type": "stream",
          "name": "stdout",
          "text": [
            "Google Cloud, **Qual a primeira vaca a pisar na lua?**.Germini Versão de: 1.0 Pro 2024, Inteligência Artificial, Disponivel em: https://gemini.google.com/app/b78ffed0e0cf7adb, Acessado em: 11/05/2024.\n"
          ]
        }
      ]
    },
    {
      "cell_type": "markdown",
      "source": [
        "Melhorando Layout de Texto"
      ],
      "metadata": {
        "id": "QyE2CCq6YR9w"
      }
    },
    {
      "cell_type": "code",
      "source": [
        "resposta = response.text\n",
        "linhas_quebradas = textwrap.wrap(resposta, width = 70)\n",
        "ref_quebradas = textwrap.wrap(referencia, width = 70)\n",
        "citacao = textwrap.shorten(autor, width=30, placeholder=\".et al\")\n",
        "ref_format = \"<br>\".join(ref_quebradas)\n",
        "\n",
        "seutexto = (f'{consulta}, ({citacao}, {ano_publi})')\n",
        "texto_formatado = textwrap.wrap(seutexto, width = 70)\n",
        "\n",
        "print('\\n Trecho do Texto Referência:')\n",
        "for texto in linhas_quebradas:\n",
        "  print(texto)\n",
        "\n",
        "print('\\n\\n Seu Argumento:')\n",
        "for suacitacao in texto_formatado:\n",
        "  print(suacitacao)\n",
        "\n",
        "print('\\n\\n Referencia Bibliografica:')\n",
        "\n",
        "display(Markdown(ref_format))\n",
        "\n",
        "print('\\n\\nModelos de Referências baseados em: https://usp.br/sddarquivos/arquivos/abnt6023.pdf \\nPara Mais informações acesse o link a cima. \\nPara textos em IA, ainda não há regra especifica da ABNT, \\né importante verificar se há regras atuais para a situação.' )\n"
      ],
      "metadata": {
        "colab": {
          "base_uri": "https://localhost:8080/",
          "height": 428
        },
        "id": "qNjzaC5jYRZT",
        "outputId": "db04ae73-4b8b-42ab-b344-66cca3722b72"
      },
      "execution_count": 47,
      "outputs": [
        {
          "output_type": "stream",
          "name": "stdout",
          "text": [
            "\n",
            " Trecho do Texto Referência:\n",
            "\"No entanto, a exploração espacial continua a evoluir, e quem sabe no\n",
            "futuro tecnologias e métodos inovadores permitirão que animais como\n",
            "vacas sejam enviados para outros planetas.\"\n",
            "\n",
            "\n",
            " Seu Argumento:\n",
            "quem sabe no futuro até as vacas possam ir ao espaço, (Germini, 1.0\n",
            "Pro 2024)\n",
            "\n",
            "\n",
            " Referencia Bibliografica:\n"
          ]
        },
        {
          "output_type": "display_data",
          "data": {
            "text/plain": [
              "<IPython.core.display.Markdown object>"
            ],
            "text/markdown": "Google Cloud, **Qual a primeira vaca a pisar na lua?**.Germini Versão<br>de: 1.0 Pro 2024, Inteligência Artificial, Disponivel em:<br>https://gemini.google.com/app/b78ffed0e0cf7adb, Acessado em:<br>11/05/2024."
          },
          "metadata": {}
        },
        {
          "output_type": "stream",
          "name": "stdout",
          "text": [
            "\n",
            "\n",
            "Modelos de Referências baseados em: https://usp.br/sddarquivos/arquivos/abnt6023.pdf \n",
            "Para Mais informações acesse o link a cima. \n",
            "Para textos em IA, ainda não há regra especifica da ABNT, \n",
            "é importante verificar se há regras atuais para a situação.\n"
          ]
        }
      ]
    }
  ]
}